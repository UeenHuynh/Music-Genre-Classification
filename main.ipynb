{
 "cells": [
  {
   "cell_type": "code",
   "execution_count": 3,
   "metadata": {},
   "outputs": [
    {
     "name": "stdout",
     "output_type": "stream",
     "text": [
      "/bin/bash: line 1: gdown: command not found\n",
      "unzip:  cannot find or open GTZAN.zip, GTZAN.zip.zip or GTZAN.zip.ZIP.\n",
      "rm: cannot remove 'GTZAN.zip': No such file or directory\n"
     ]
    }
   ],
   "source": [
    "## dataset downloading...\n",
    "!gdown 1MGhyeMngD6P9Kz9zJpL68ylQaIQvW7Zx\n",
    "!unzip GTZAN.zip -d /content/GTZAN\n",
    "!rm GTZAN.zip"
   ]
  }
 ],
 "metadata": {
  "kernelspec": {
   "display_name": "AIO",
   "language": "python",
   "name": "python3"
  },
  "language_info": {
   "codemirror_mode": {
    "name": "ipython",
    "version": 3
   },
   "file_extension": ".py",
   "mimetype": "text/x-python",
   "name": "python",
   "nbconvert_exporter": "python",
   "pygments_lexer": "ipython3",
   "version": "3.10.13"
  }
 },
 "nbformat": 4,
 "nbformat_minor": 2
}
